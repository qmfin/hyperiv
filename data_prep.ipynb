{
 "cells": [
  {
   "cell_type": "code",
   "execution_count": 1,
   "id": "b189975e-dbc3-4e83-adf5-de5f7172eccc",
   "metadata": {},
   "outputs": [],
   "source": [
    "import pandas as pd\n",
    "from data_util import find_closest_elements"
   ]
  },
  {
   "cell_type": "code",
   "execution_count": 2,
   "id": "745ee4e5",
   "metadata": {},
   "outputs": [],
   "source": [
    "df = pd.read_hdf('spx.h5', 'df')"
   ]
  },
  {
   "cell_type": "code",
   "execution_count": 3,
   "id": "3329b688",
   "metadata": {},
   "outputs": [
    {
     "data": {
      "text/html": [
       "<div>\n",
       "<style scoped>\n",
       "    .dataframe tbody tr th:only-of-type {\n",
       "        vertical-align: middle;\n",
       "    }\n",
       "\n",
       "    .dataframe tbody tr th {\n",
       "        vertical-align: top;\n",
       "    }\n",
       "\n",
       "    .dataframe thead th {\n",
       "        text-align: right;\n",
       "    }\n",
       "</style>\n",
       "<table border=\"1\" class=\"dataframe\">\n",
       "  <thead>\n",
       "    <tr style=\"text-align: right;\">\n",
       "      <th></th>\n",
       "      <th>date</th>\n",
       "      <th>forward_price</th>\n",
       "      <th>tau</th>\n",
       "      <th>risk_free_rate</th>\n",
       "      <th>is_call</th>\n",
       "      <th>strike_price</th>\n",
       "      <th>option_price</th>\n",
       "      <th>log_moneyness</th>\n",
       "      <th>implied_volatility</th>\n",
       "      <th>delta</th>\n",
       "      <th>time_to_maturity</th>\n",
       "    </tr>\n",
       "  </thead>\n",
       "  <tbody>\n",
       "    <tr>\n",
       "      <th>0</th>\n",
       "      <td>2013-01-02</td>\n",
       "      <td>1459.912086</td>\n",
       "      <td>0.024658</td>\n",
       "      <td>0.001955</td>\n",
       "      <td>-1.0</td>\n",
       "      <td>1255.0</td>\n",
       "      <td>0.100</td>\n",
       "      <td>-0.151241</td>\n",
       "      <td>0.364894</td>\n",
       "      <td>-0.003813</td>\n",
       "      <td>9</td>\n",
       "    </tr>\n",
       "    <tr>\n",
       "      <th>1</th>\n",
       "      <td>2013-01-02</td>\n",
       "      <td>1459.912086</td>\n",
       "      <td>0.024658</td>\n",
       "      <td>0.001955</td>\n",
       "      <td>-1.0</td>\n",
       "      <td>1260.0</td>\n",
       "      <td>0.100</td>\n",
       "      <td>-0.147264</td>\n",
       "      <td>0.356226</td>\n",
       "      <td>-0.003900</td>\n",
       "      <td>9</td>\n",
       "    </tr>\n",
       "    <tr>\n",
       "      <th>2</th>\n",
       "      <td>2013-01-02</td>\n",
       "      <td>1459.912086</td>\n",
       "      <td>0.024658</td>\n",
       "      <td>0.001955</td>\n",
       "      <td>-1.0</td>\n",
       "      <td>1270.0</td>\n",
       "      <td>0.100</td>\n",
       "      <td>-0.139359</td>\n",
       "      <td>0.338941</td>\n",
       "      <td>-0.004084</td>\n",
       "      <td>9</td>\n",
       "    </tr>\n",
       "    <tr>\n",
       "      <th>3</th>\n",
       "      <td>2013-01-02</td>\n",
       "      <td>1459.912086</td>\n",
       "      <td>0.024658</td>\n",
       "      <td>0.001955</td>\n",
       "      <td>-1.0</td>\n",
       "      <td>1275.0</td>\n",
       "      <td>0.125</td>\n",
       "      <td>-0.135430</td>\n",
       "      <td>0.338461</td>\n",
       "      <td>-0.005015</td>\n",
       "      <td>9</td>\n",
       "    </tr>\n",
       "    <tr>\n",
       "      <th>4</th>\n",
       "      <td>2013-01-02</td>\n",
       "      <td>1459.912086</td>\n",
       "      <td>0.024658</td>\n",
       "      <td>0.001955</td>\n",
       "      <td>-1.0</td>\n",
       "      <td>1280.0</td>\n",
       "      <td>0.150</td>\n",
       "      <td>-0.131516</td>\n",
       "      <td>0.336568</td>\n",
       "      <td>-0.005953</td>\n",
       "      <td>9</td>\n",
       "    </tr>\n",
       "    <tr>\n",
       "      <th>5</th>\n",
       "      <td>2013-01-02</td>\n",
       "      <td>1459.912086</td>\n",
       "      <td>0.024658</td>\n",
       "      <td>0.001955</td>\n",
       "      <td>-1.0</td>\n",
       "      <td>1285.0</td>\n",
       "      <td>0.200</td>\n",
       "      <td>-0.127618</td>\n",
       "      <td>0.339030</td>\n",
       "      <td>-0.007680</td>\n",
       "      <td>9</td>\n",
       "    </tr>\n",
       "    <tr>\n",
       "      <th>6</th>\n",
       "      <td>2013-01-02</td>\n",
       "      <td>1459.912086</td>\n",
       "      <td>0.024658</td>\n",
       "      <td>0.001955</td>\n",
       "      <td>-1.0</td>\n",
       "      <td>1290.0</td>\n",
       "      <td>0.225</td>\n",
       "      <td>-0.123734</td>\n",
       "      <td>0.334715</td>\n",
       "      <td>-0.008646</td>\n",
       "      <td>9</td>\n",
       "    </tr>\n",
       "    <tr>\n",
       "      <th>7</th>\n",
       "      <td>2013-01-02</td>\n",
       "      <td>1459.912086</td>\n",
       "      <td>0.024658</td>\n",
       "      <td>0.001955</td>\n",
       "      <td>-1.0</td>\n",
       "      <td>1295.0</td>\n",
       "      <td>0.200</td>\n",
       "      <td>-0.119866</td>\n",
       "      <td>0.320733</td>\n",
       "      <td>-0.008082</td>\n",
       "      <td>9</td>\n",
       "    </tr>\n",
       "    <tr>\n",
       "      <th>8</th>\n",
       "      <td>2013-01-02</td>\n",
       "      <td>1459.912086</td>\n",
       "      <td>0.024658</td>\n",
       "      <td>0.001955</td>\n",
       "      <td>-1.0</td>\n",
       "      <td>1300.0</td>\n",
       "      <td>0.150</td>\n",
       "      <td>-0.116012</td>\n",
       "      <td>0.300980</td>\n",
       "      <td>-0.006601</td>\n",
       "      <td>9</td>\n",
       "    </tr>\n",
       "    <tr>\n",
       "      <th>9</th>\n",
       "      <td>2013-01-02</td>\n",
       "      <td>1459.912086</td>\n",
       "      <td>0.024658</td>\n",
       "      <td>0.001955</td>\n",
       "      <td>-1.0</td>\n",
       "      <td>1305.0</td>\n",
       "      <td>0.175</td>\n",
       "      <td>-0.112173</td>\n",
       "      <td>0.297554</td>\n",
       "      <td>-0.007673</td>\n",
       "      <td>9</td>\n",
       "    </tr>\n",
       "  </tbody>\n",
       "</table>\n",
       "</div>"
      ],
      "text/plain": [
       "        date  forward_price       tau  risk_free_rate  is_call  strike_price  \\\n",
       "0 2013-01-02    1459.912086  0.024658        0.001955     -1.0        1255.0   \n",
       "1 2013-01-02    1459.912086  0.024658        0.001955     -1.0        1260.0   \n",
       "2 2013-01-02    1459.912086  0.024658        0.001955     -1.0        1270.0   \n",
       "3 2013-01-02    1459.912086  0.024658        0.001955     -1.0        1275.0   \n",
       "4 2013-01-02    1459.912086  0.024658        0.001955     -1.0        1280.0   \n",
       "5 2013-01-02    1459.912086  0.024658        0.001955     -1.0        1285.0   \n",
       "6 2013-01-02    1459.912086  0.024658        0.001955     -1.0        1290.0   \n",
       "7 2013-01-02    1459.912086  0.024658        0.001955     -1.0        1295.0   \n",
       "8 2013-01-02    1459.912086  0.024658        0.001955     -1.0        1300.0   \n",
       "9 2013-01-02    1459.912086  0.024658        0.001955     -1.0        1305.0   \n",
       "\n",
       "   option_price  log_moneyness  implied_volatility     delta  time_to_maturity  \n",
       "0         0.100      -0.151241            0.364894 -0.003813                 9  \n",
       "1         0.100      -0.147264            0.356226 -0.003900                 9  \n",
       "2         0.100      -0.139359            0.338941 -0.004084                 9  \n",
       "3         0.125      -0.135430            0.338461 -0.005015                 9  \n",
       "4         0.150      -0.131516            0.336568 -0.005953                 9  \n",
       "5         0.200      -0.127618            0.339030 -0.007680                 9  \n",
       "6         0.225      -0.123734            0.334715 -0.008646                 9  \n",
       "7         0.200      -0.119866            0.320733 -0.008082                 9  \n",
       "8         0.150      -0.116012            0.300980 -0.006601                 9  \n",
       "9         0.175      -0.112173            0.297554 -0.007673                 9  "
      ]
     },
     "execution_count": 3,
     "metadata": {},
     "output_type": "execute_result"
    }
   ],
   "source": [
    "df.head(10)"
   ]
  },
  {
   "cell_type": "code",
   "execution_count": 4,
   "id": "dcde0824",
   "metadata": {
    "vscode": {
     "languageId": "ruby"
    }
   },
   "outputs": [],
   "source": [
    "target_ttms = [7, 30, 90]\n",
    "target_deltas = [0.5, 0.25, -0.25]"
   ]
  },
  {
   "cell_type": "code",
   "execution_count": 5,
   "id": "9559ea9d",
   "metadata": {
    "vscode": {
     "languageId": "ruby"
    }
   },
   "outputs": [],
   "source": [
    "df_tmp = df.groupby('date').apply(find_closest_elements, 'time_to_maturity', target_deltas, include_groups=False)"
   ]
  },
  {
   "cell_type": "code",
   "execution_count": 6,
   "id": "09e9c55b",
   "metadata": {
    "vscode": {
     "languageId": "ruby"
    }
   },
   "outputs": [],
   "source": [
    "reference_options = df_tmp.groupby(['date','time_to_maturity']).apply(find_closest_elements, 'delta', target_deltas, include_groups=False)"
   ]
  },
  {
   "cell_type": "code",
   "execution_count": 7,
   "id": "56ba13df",
   "metadata": {},
   "outputs": [],
   "source": [
    "df['is_ref'] = 0"
   ]
  },
  {
   "cell_type": "code",
   "execution_count": 8,
   "id": "a368d4b0",
   "metadata": {},
   "outputs": [],
   "source": [
    "df.loc[reference_options.index.get_level_values(-1), 'is_ref'] = 1"
   ]
  },
  {
   "cell_type": "code",
   "execution_count": 9,
   "id": "a7d90203",
   "metadata": {},
   "outputs": [],
   "source": [
    "df.to_hdf(path_or_buf='spx_w_ref.h5', key='df', complevel=9, complib='blosc')"
   ]
  }
 ],
 "metadata": {
  "kernelspec": {
   "display_name": ".venv",
   "language": "python",
   "name": "python3"
  },
  "language_info": {
   "codemirror_mode": {
    "name": "ipython",
    "version": 3
   },
   "file_extension": ".py",
   "mimetype": "text/x-python",
   "name": "python",
   "nbconvert_exporter": "python",
   "pygments_lexer": "ipython3",
   "version": "3.10.12"
  }
 },
 "nbformat": 4,
 "nbformat_minor": 5
}
